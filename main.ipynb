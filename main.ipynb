{
 "cells": [
  {
   "cell_type": "code",
   "execution_count": 69,
   "metadata": {},
   "outputs": [],
   "source": [
    "import pandas as pd\n",
    "import numpy as np\n",
    "import matplotlib.pyplot as plt\n",
    "import dss\n",
    "import opendssdirect"
   ]
  },
  {
   "cell_type": "code",
   "execution_count": 94,
   "metadata": {},
   "outputs": [
    {
     "name": "stdout",
     "output_type": "stream",
     "text": [
      "/home/ubuntu/jwcha/opendss_option_python/tutorials/\n"
     ]
    }
   ],
   "source": [
    "engine = dss.DSS\n",
    "engine.Start(0)\n",
    "engine.ClearAll()\n",
    "print(engine.DataPath)\n"
   ]
  },
  {
   "cell_type": "code",
   "execution_count": 95,
   "metadata": {},
   "outputs": [],
   "source": [
    "engine.Text.Command = \"compile Example1.dss\"\n",
    "engine.ActiveCircuit.Solution.Solve()"
   ]
  },
  {
   "cell_type": "code",
   "execution_count": 80,
   "metadata": {},
   "outputs": [
    {
     "data": {
      "text/plain": [
       "array([0., 0., 0., 0., 0., 0.])"
      ]
     },
     "execution_count": 80,
     "metadata": {},
     "output_type": "execute_result"
    }
   ],
   "source": [
    "engine.ActiveCircuit.AllBusDistances"
   ]
  },
  {
   "cell_type": "code",
   "execution_count": 83,
   "metadata": {},
   "outputs": [
    {
     "data": {
      "text/plain": [
       "array([1, 2, 3], dtype=int32)"
      ]
     },
     "execution_count": 83,
     "metadata": {},
     "output_type": "execute_result"
    }
   ],
   "source": [
    "engine.ActiveCircuit.ActiveBus.Nodes"
   ]
  },
  {
   "cell_type": "code",
   "execution_count": 86,
   "metadata": {},
   "outputs": [
    {
     "data": {
      "text/plain": [
       "['NONE']"
      ]
     },
     "execution_count": 86,
     "metadata": {},
     "output_type": "execute_result"
    }
   ],
   "source": [
    "engine.ActiveCircuit.LineGeometries.AllNames"
   ]
  },
  {
   "cell_type": "code",
   "execution_count": 88,
   "metadata": {},
   "outputs": [
    {
     "data": {
      "text/plain": [
       "['gen1']"
      ]
     },
     "execution_count": 88,
     "metadata": {},
     "output_type": "execute_result"
    }
   ],
   "source": [
    "engine.ActiveCircuit.Generators.AllNames"
   ]
  },
  {
   "cell_type": "code",
   "execution_count": 90,
   "metadata": {},
   "outputs": [
    {
     "data": {
      "text/plain": [
       "['load1', 'load2']"
      ]
     },
     "execution_count": 90,
     "metadata": {},
     "output_type": "execute_result"
    }
   ],
   "source": [
    "engine.ActiveCircuit.Loads.AllNames"
   ]
  },
  {
   "cell_type": "code",
   "execution_count": 96,
   "metadata": {},
   "outputs": [
    {
     "data": {
      "text/plain": [
       "0.0"
      ]
     },
     "execution_count": 96,
     "metadata": {},
     "output_type": "execute_result"
    }
   ],
   "source": [
    "engine.ActiveCircuit.Solution.Time_of_Step"
   ]
  },
  {
   "cell_type": "code",
   "execution_count": 97,
   "metadata": {},
   "outputs": [
    {
     "data": {
      "text/plain": [
       "0"
      ]
     },
     "execution_count": 97,
     "metadata": {},
     "output_type": "execute_result"
    }
   ],
   "source": [
    "engine.ActiveCircuit.Solution.Algorithm"
   ]
  },
  {
   "cell_type": "code",
   "execution_count": 98,
   "metadata": {},
   "outputs": [
    {
     "data": {
      "text/plain": [
       "0.0"
      ]
     },
     "execution_count": 98,
     "metadata": {},
     "output_type": "execute_result"
    }
   ],
   "source": [
    "engine.ActiveCircuit.Solution.dblHour"
   ]
  },
  {
   "cell_type": "code",
   "execution_count": 99,
   "metadata": {},
   "outputs": [
    {
     "data": {
      "text/plain": [
       "0"
      ]
     },
     "execution_count": 99,
     "metadata": {},
     "output_type": "execute_result"
    }
   ],
   "source": [
    "engine.ActiveCircuit.Solution.Year"
   ]
  },
  {
   "cell_type": "code",
   "execution_count": null,
   "metadata": {},
   "outputs": [],
   "source": [
    "engine.ActiveCircuit."
   ]
  },
  {
   "cell_type": "code",
   "execution_count": 66,
   "metadata": {},
   "outputs": [
    {
     "name": "stdout",
     "output_type": "stream",
     "text": [
      "engine.ActiveCircuit.Solution.InitSnap() None\n",
      "engine.ActiveCircuit.Solution.Mode 0\n",
      "engine.ActiveCircuit.Solution.Number 100\n",
      "engine.ActiveCircuit.Solution.dblHour 0.0\n"
     ]
    }
   ],
   "source": [
    "engine = dss.DSS\n",
    "engine.ClearAll()\n",
    "engine.Text.Command = \"compile ~/jwcha/opendss_option_python/iowa_test_system/Master.dss\"\n",
    "print(\"engine.ActiveCircuit.Solution.InitSnap()\", engine.ActiveCircuit.Solution.InitSnap())\n",
    "print(\"engine.ActiveCircuit.Solution.Mode\",       engine.ActiveCircuit.Solution.Mode)\n",
    "print(\"engine.ActiveCircuit.Solution.Number\",     engine.ActiveCircuit.Solution.Number)\n",
    "print(\"engine.ActiveCircuit.Solution.dblHour\",    engine.ActiveCircuit.Solution.dblHour)"
   ]
  },
  {
   "cell_type": "code",
   "execution_count": 67,
   "metadata": {},
   "outputs": [
    {
     "name": "stdout",
     "output_type": "stream",
     "text": [
      "None\n"
     ]
    }
   ],
   "source": [
    "print(engine.ActiveCircuit.Solution.SolveNoControl())"
   ]
  },
  {
   "cell_type": "code",
   "execution_count": 62,
   "metadata": {},
   "outputs": [
    {
     "name": "stdout",
     "output_type": "stream",
     "text": [
      "DSS C-API Library version 0.10.7-1 revision 8c84127a0c59289d09c1399a9759e243da273b78 based on OpenDSS SVN 2988 (v7/classic variation) MVMULT [FPC 3.2.0] (64-bit build); License Status: Open \n"
     ]
    },
    {
     "ename": "DSSException",
     "evalue": "(243, 'Redirect File: \"/home/ubuntu/jwcha/opendss_option_python/ieee123/iowa_power_system/Master.dss\" Not Found.')",
     "output_type": "error",
     "traceback": [
      "\u001b[0;31m---------------------------------------------------------------------------\u001b[0m",
      "\u001b[0;31mDSSException\u001b[0m                              Traceback (most recent call last)",
      "\u001b[0;32m<ipython-input-62-c13f5b470e67>\u001b[0m in \u001b[0;36m<module>\u001b[0;34m()\u001b[0m\n\u001b[1;32m    210\u001b[0m \u001b[0mengine\u001b[0m \u001b[0;34m=\u001b[0m \u001b[0mdss\u001b[0m\u001b[0;34m.\u001b[0m\u001b[0mDSS\u001b[0m\u001b[0;34m\u001b[0m\u001b[0m\n\u001b[1;32m    211\u001b[0m \u001b[0mengine\u001b[0m\u001b[0;34m.\u001b[0m\u001b[0mClearAll\u001b[0m\u001b[0;34m(\u001b[0m\u001b[0;34m)\u001b[0m\u001b[0;34m\u001b[0m\u001b[0m\n\u001b[0;32m--> 212\u001b[0;31m \u001b[0mmodel\u001b[0m \u001b[0;34m=\u001b[0m \u001b[0mDSSModel\u001b[0m\u001b[0;34m(\u001b[0m\u001b[0;34m\"iowa_power_system/Master.dss\"\u001b[0m\u001b[0;34m)\u001b[0m\u001b[0;34m\u001b[0m\u001b[0m\n\u001b[0m",
      "\u001b[0;32m<ipython-input-62-c13f5b470e67>\u001b[0m in \u001b[0;36m__init__\u001b[0;34m(self, filename)\u001b[0m\n\u001b[1;32m     48\u001b[0m \u001b[0;31m# that represents the electric circuit that is being modeled\u001b[0m\u001b[0;34m\u001b[0m\u001b[0;34m\u001b[0m\u001b[0m\n\u001b[1;32m     49\u001b[0m         \u001b[0;32mif\u001b[0m \u001b[0mfilename\u001b[0m \u001b[0;34m!=\u001b[0m \u001b[0;34m\"\"\u001b[0m\u001b[0;34m:\u001b[0m\u001b[0;34m\u001b[0m\u001b[0m\n\u001b[0;32m---> 50\u001b[0;31m             \u001b[0mself\u001b[0m\u001b[0;34m.\u001b[0m\u001b[0mtext\u001b[0m\u001b[0;34m.\u001b[0m\u001b[0mCommand\u001b[0m \u001b[0;34m=\u001b[0m \u001b[0;34m\"compile [\"\u001b[0m \u001b[0;34m+\u001b[0m \u001b[0mfilename\u001b[0m \u001b[0;34m+\u001b[0m \u001b[0;34m\"]\"\u001b[0m\u001b[0;34m\u001b[0m\u001b[0m\n\u001b[0m\u001b[1;32m     51\u001b[0m             \u001b[0;31m# self.text.Command = \"New EnergyMeter.Feeder Line.L115 1\"\u001b[0m\u001b[0;34m\u001b[0m\u001b[0;34m\u001b[0m\u001b[0m\n\u001b[1;32m     52\u001b[0m             \u001b[0mself\u001b[0m\u001b[0;34m.\u001b[0m\u001b[0mtext\u001b[0m\u001b[0;34m.\u001b[0m\u001b[0mCommand\u001b[0m \u001b[0;34m=\u001b[0m \u001b[0;34m\"solve\"\u001b[0m\u001b[0;34m\u001b[0m\u001b[0m\n",
      "\u001b[0;32m~/anaconda3/envs/pytorch_p36/lib/python3.6/site-packages/dss/dss_capi_gr/IText.py\u001b[0m in \u001b[0;36mCommand\u001b[0;34m(self, Value)\u001b[0m\n\u001b[1;32m     20\u001b[0m             \u001b[0mValue\u001b[0m \u001b[0;34m=\u001b[0m \u001b[0mValue\u001b[0m\u001b[0;34m.\u001b[0m\u001b[0mencode\u001b[0m\u001b[0;34m(\u001b[0m\u001b[0mself\u001b[0m\u001b[0;34m.\u001b[0m\u001b[0m_api_util\u001b[0m\u001b[0;34m.\u001b[0m\u001b[0mcodec\u001b[0m\u001b[0;34m)\u001b[0m\u001b[0;34m\u001b[0m\u001b[0m\n\u001b[1;32m     21\u001b[0m \u001b[0;34m\u001b[0m\u001b[0m\n\u001b[0;32m---> 22\u001b[0;31m         \u001b[0mself\u001b[0m\u001b[0;34m.\u001b[0m\u001b[0mCheckForError\u001b[0m\u001b[0;34m(\u001b[0m\u001b[0mself\u001b[0m\u001b[0;34m.\u001b[0m\u001b[0m_lib\u001b[0m\u001b[0;34m.\u001b[0m\u001b[0mText_Set_Command\u001b[0m\u001b[0;34m(\u001b[0m\u001b[0mValue\u001b[0m\u001b[0;34m)\u001b[0m\u001b[0;34m)\u001b[0m\u001b[0;34m\u001b[0m\u001b[0m\n\u001b[0m\u001b[1;32m     23\u001b[0m \u001b[0;34m\u001b[0m\u001b[0m\n\u001b[1;32m     24\u001b[0m     \u001b[0;34m@\u001b[0m\u001b[0mproperty\u001b[0m\u001b[0;34m\u001b[0m\u001b[0m\n",
      "\u001b[0;32m~/anaconda3/envs/pytorch_p36/lib/python3.6/site-packages/dss/_cffi_api_util.py\u001b[0m in \u001b[0;36mCheckForError\u001b[0;34m(self, result)\u001b[0m\n\u001b[1;32m     79\u001b[0m             \u001b[0merror_num\u001b[0m \u001b[0;34m=\u001b[0m \u001b[0mself\u001b[0m\u001b[0;34m.\u001b[0m\u001b[0m_errorPtr\u001b[0m\u001b[0;34m[\u001b[0m\u001b[0;36m0\u001b[0m\u001b[0;34m]\u001b[0m\u001b[0;34m\u001b[0m\u001b[0m\n\u001b[1;32m     80\u001b[0m             \u001b[0mself\u001b[0m\u001b[0;34m.\u001b[0m\u001b[0m_errorPtr\u001b[0m\u001b[0;34m[\u001b[0m\u001b[0;36m0\u001b[0m\u001b[0;34m]\u001b[0m \u001b[0;34m=\u001b[0m \u001b[0;36m0\u001b[0m\u001b[0;34m\u001b[0m\u001b[0m\n\u001b[0;32m---> 81\u001b[0;31m             \u001b[0;32mraise\u001b[0m \u001b[0mDSSException\u001b[0m\u001b[0;34m(\u001b[0m\u001b[0merror_num\u001b[0m\u001b[0;34m,\u001b[0m \u001b[0mself\u001b[0m\u001b[0;34m.\u001b[0m\u001b[0m_get_string\u001b[0m\u001b[0;34m(\u001b[0m\u001b[0mself\u001b[0m\u001b[0;34m.\u001b[0m\u001b[0m_lib\u001b[0m\u001b[0;34m.\u001b[0m\u001b[0mError_Get_Description\u001b[0m\u001b[0;34m(\u001b[0m\u001b[0;34m)\u001b[0m\u001b[0;34m)\u001b[0m\u001b[0;34m)\u001b[0m\u001b[0;34m\u001b[0m\u001b[0m\n\u001b[0m\u001b[1;32m     82\u001b[0m \u001b[0;34m\u001b[0m\u001b[0m\n\u001b[1;32m     83\u001b[0m         \u001b[0;32mreturn\u001b[0m \u001b[0mresult\u001b[0m\u001b[0;34m\u001b[0m\u001b[0m\n",
      "\u001b[0;31mDSSException\u001b[0m: (243, 'Redirect File: \"/home/ubuntu/jwcha/opendss_option_python/ieee123/iowa_power_system/Master.dss\" Not Found.')"
     ]
    }
   ],
   "source": [
    "from numpy import *\n",
    "from pylab import *\n",
    "import matplotlib.pyplot as plt\n",
    "from matplotlib.collections import LineCollection\n",
    "from matplotlib.colors import ColorConverter\n",
    "import matplotlib.text as text\n",
    "colorConverter = ColorConverter()\n",
    "import re\n",
    "\n",
    "class DSSModel:\n",
    "# \"\"\"\n",
    "# tshort@epri.com 2008-11-17\n",
    "# comments: wsunderman@epri.com 2009-10-30\n",
    "\n",
    "\n",
    "    def __init__(self, filename = \"\"):\n",
    "        \"\"\"\n",
    "        Inputs:\n",
    "            filename - string - DSS input file\n",
    "        Side effects:\n",
    "            start DSS via COM\n",
    "        Contains the following DSS COM objects:\n",
    "            engine\n",
    "            text\n",
    "            circuit\n",
    "        \"\"\"\n",
    "# start an embedded DSS engine through COM\n",
    "# note: OpenDSSEngine.dll must already be registered\n",
    "        self.engine = dss.DSS\n",
    "        self.engine.ClearAll()\n",
    "        self.engine.Start(0)\n",
    "\n",
    "\n",
    "# use the Text interface to OpenDSS\n",
    "        self.text = self.engine.Text\n",
    "        self.text.Command = \"clear\"\n",
    "        self.circuit = self.engine.ActiveCircuit\n",
    "\n",
    "        print(self.engine.Version)\n",
    "\n",
    "\n",
    "# if filename is not empty, then compile the .dss file specified\n",
    "# note:  filename includes the path and the .dss file name\n",
    "# note:  the .dss file compiled is usually the master.dss file\n",
    "# note:  an energymeter should be defined at the head of the circuit\n",
    "# being modeled\n",
    "# note:  if compilation is successful we have a circuit instance\n",
    "# that represents the electric circuit that is being modeled\n",
    "        if filename != \"\":\n",
    "            self.text.Command = \"compile [\" + filename + \"]\"\n",
    "            # self.text.Command = \"New EnergyMeter.Feeder Line.L115 1\"\n",
    "            self.text.Command = \"solve\"\n",
    "            self.text.Command = \"Buscoords Buscoords.dss\"   # load in bus coordinates\n",
    "            self.populate_results()\n",
    "\n",
    "\n",
    "# method gets the bus and branch names of the DSS 'circuit' instance\n",
    "# also populates the branch currents and bus voltages\n",
    "    def populate_results(self):\n",
    "        self.bus = Bus(self.circuit)\n",
    "        self.branch = Branch(self.circuit)\n",
    "\n",
    "# method plots the voltages and map in separate windows\n",
    "# and shows them\n",
    "    def plots(self):\n",
    "        self.plot_voltage()\n",
    "        self.plot_map()\n",
    "        show()\n",
    "\n",
    "\n",
    "# method displays (prints) line name, number of phases,\n",
    "# voltages in actual volts and volts on a 120V basis,\n",
    "# displays currents, and calculates real power, reactive\n",
    "# power, and pf (displacement)\n",
    "# in a text window\n",
    "    def print_branch_info(self, event):\n",
    "        ind = event.ind[0]\n",
    "        print(\" \")\n",
    "        print(\"line: \", self.branch.name[ind])\n",
    "        print(\"number of phases: \", self.branch.nphases[ind])\n",
    "        print(\"voltages: \", around(abs(self.branch.Vto[ind]), 1))\n",
    "        print(\"voltages (120-V base): \", around(abs(self.branch.Vto[ind]) / self.branch.kvbase[ind] * 120 / 1000, 1))\n",
    "\n",
    "        print(\"currents: \", around(abs(self.branch.I[ind])))\n",
    "        S = self.branch.V[ind] * self.branch.I[ind].conj()\n",
    "        print(\"kilowatts: \", around(S.real / 1000))\n",
    "        print(\"kilovars: \", around(S.imag / 1000))\n",
    "        print(\"pf: \", around(S.real / abs(S), 2))\n",
    "\n",
    "        print(\" \")\n",
    "\n",
    "# method does the plotting of the voltages on a 120V base versus distance\n",
    "# x = distance\n",
    "# y = voltage (120V base)\n",
    "    def plot_voltage(self):\n",
    "        fig = figure()\n",
    "        def t(x): return x.transpose()\n",
    "\n",
    "#scale factor gets us to 120V from the kvbase which is set in the .dss file\n",
    "        scalefactor = 1 / self.branch.kvbase * 120 / 1000\n",
    "\n",
    "        x = self.branch.distance\n",
    "        y = t(t(abs(self.branch.Vto)) * scalefactor)\n",
    "        plot(x, y, '*', markersize=5, picker=5)\n",
    "\n",
    "#       # the following code will scale the size dot by the number of phases\n",
    "#       # it's nice, but it makes the code slow\n",
    "#         size = (self.branch.nphases + 1) ** 2\n",
    "#         scatter(self.branch.distance, abs(self.branch.Vto[:,0]), s = size, c = 'r', picker=5)\n",
    "#         scatter(self.branch.distance, abs(self.branch.Vto[:,1]), s = size, c = 'g', picker=5)\n",
    "#         scatter(self.branch.distance, abs(self.branch.Vto[:,2]), s = size, c = 'b', picker=5)\n",
    "\n",
    "# setup the pick events to highlight the voltage plot, circuit map,\n",
    "# and to display the branch info in the text box\n",
    "# note:  a pick event is usually a mouse click within a certain radius\n",
    "# of the actual points on the plots\n",
    "# note:  all three methods get called on any pick event\n",
    "        connect('pick_event', self.highlight_voltage_plot)\n",
    "        connect('pick_event', self.highlight_map)\n",
    "        connect('pick_event', self.print_branch_info)\n",
    "\n",
    "        self.fig = fig\n",
    "        self.selected, = plot(x[0:3], y[0], 'o', ms=12, alpha=0.7,\n",
    "            color='yellow', visible=False)\n",
    "\n",
    "        ax = fig.add_subplot(111)\n",
    "        ax.set_xticklabels([])\n",
    "        ax.set_xlabel('distance')\n",
    "        ax.set_ylabel('Voltage (120V base)')\n",
    "        ax.set_title('Primary Voltages by phase')\n",
    "        for o in fig.findobj(text.Text):\n",
    "            o.set_fontsize(18)\n",
    "\n",
    "# set the limits (x and y) of the plot to contain all of the points\n",
    "        #xlim(x[x > 0].min(), x.max())\n",
    "        #ylim(y[y > 0].min(), y.max())\n",
    "\n",
    "# method highlights the voltage plot based on\n",
    "# the x and y coordinates of the pick event (mouse click)\n",
    "    def highlight_voltage_plot(self, event):\n",
    "        axis = event.artist.get_axes()\n",
    "        ind = event.ind[0]\n",
    "        x = self.branch.distance[ind].repeat(3)\n",
    "        y = abs(self.branch.Vto[ind]) / self.branch.kvbase[ind] * 120 / 1000\n",
    "        self.selected.set_visible(True)\n",
    "        self.selected.set_data(x, y)\n",
    "        self.fig.canvas.draw()\n",
    "\n",
    "# method does the plotting of the map of the circuit\n",
    "# note:  master file should have the following text in it\n",
    "# Buscoords buscoords.dss, where buscoords.dss contains the x and y\n",
    "# coordinates for each bus to be plotted\n",
    "    def plot_map(self):\n",
    "        fig = figure()\n",
    "\n",
    "# get x and y coordinates of the branch to be drawn\n",
    "# the branch is a line so it is defined with pairs of\n",
    "# from and to coordinates\n",
    "        x1 = self.branch.x\n",
    "        y1 = self.branch.y\n",
    "        x2 = self.branch.xto\n",
    "        y2 = self.branch.yto\n",
    "        axes().set_aspect('equal', 'datalim')\n",
    "\n",
    "# don't want to see any ticks on the x-axis or the y-axis\n",
    "        xticks([])\n",
    "        yticks([])\n",
    "\n",
    "# set the limits of the map plot\n",
    "        xlim(x1.min(), x1.max())\n",
    "        ylim(y1.min(), y1.max())\n",
    "\n",
    "# take the from x and y coordinates and the to x and y coordinates\n",
    "# and put them together (zip) as a python sequence object\n",
    "        segments = [ ( (thisx1, thisy1), (thisx2, thisy2) )  for thisx1, thisy1, thisx2, thisy2 in zip(x1,y1,x2,y2)]\n",
    "\n",
    "# make a LineCollection of the segments, with width indicating the number\n",
    "# of phases\n",
    "        line_segments = LineCollection(segments,\n",
    "                                       linewidths    = self.branch.nphases*1.5,\n",
    "                                       linestyle = 'solid', picker = 5)\n",
    "        gca().add_collection(line_segments)\n",
    "\n",
    "# setup the pick events to highlight the voltage plot, circuit map,\n",
    "# and to display the branch info in the text box\n",
    "# note:  a pick event is usually a mouse click within a certain radius\n",
    "# of the actual points on the plots\n",
    "        connect('pick_event', self.highlight_voltage_plot)\n",
    "        connect('pick_event', self.highlight_map)\n",
    "        connect('pick_event', self.print_branch_info)\n",
    "        self.mapfig = fig\n",
    "# plot a yellow circle at the 'to' bus of the line segment if clicked on with\n",
    "# the mouse\n",
    "        self.mapselected,  = plot([x2[0]], [y2[0]], 'o', ms=12, alpha=0.4, color='yellow', visible=False)\n",
    "\n",
    "\n",
    "# method highlights the map plot based on\n",
    "# the x and y coordinates of the pick event (mouse click)\n",
    "    def highlight_map(self, event):\n",
    "        axis = event.artist.get_axes()\n",
    "        ind = event.ind[0]\n",
    "        x = self.branch.x[ind]\n",
    "        y = self.branch.y[ind]\n",
    "        xto = self.branch.xto[ind]\n",
    "        yto = self.branch.yto[ind]\n",
    "        self.mapselected.set_visible(True)\n",
    "        self.mapselected.set_data(xto,yto)\n",
    "        self.mapfig.canvas.draw()\n",
    "\n",
    "engine = dss.DSS\n",
    "engine.ClearAll()\n",
    "model = DSSModel(\"iowa_power_system/Master.dss\")"
   ]
  },
  {
   "cell_type": "code",
   "execution_count": 60,
   "metadata": {},
   "outputs": [
    {
     "ename": "IndexError",
     "evalue": "index 0 is out of bounds for axis 0 with size 0",
     "output_type": "error",
     "traceback": [
      "\u001b[0;31m---------------------------------------------------------------------------\u001b[0m",
      "\u001b[0;31mIndexError\u001b[0m                                Traceback (most recent call last)",
      "\u001b[0;32m<ipython-input-60-e6d6ac1f9f00>\u001b[0m in \u001b[0;36m<module>\u001b[0;34m()\u001b[0m\n\u001b[1;32m      1\u001b[0m \u001b[0mget_ipython\u001b[0m\u001b[0;34m(\u001b[0m\u001b[0;34m)\u001b[0m\u001b[0;34m.\u001b[0m\u001b[0mrun_line_magic\u001b[0m\u001b[0;34m(\u001b[0m\u001b[0;34m'matplotlib'\u001b[0m\u001b[0;34m,\u001b[0m \u001b[0;34m'inline'\u001b[0m\u001b[0;34m)\u001b[0m\u001b[0;34m\u001b[0m\u001b[0m\n\u001b[0;32m----> 2\u001b[0;31m \u001b[0mmodel\u001b[0m\u001b[0;34m.\u001b[0m\u001b[0mplots\u001b[0m\u001b[0;34m(\u001b[0m\u001b[0;34m)\u001b[0m\u001b[0;34m\u001b[0m\u001b[0m\n\u001b[0m",
      "\u001b[0;32m<ipython-input-59-2efbd3c9303c>\u001b[0m in \u001b[0;36mplots\u001b[0;34m(self)\u001b[0m\n\u001b[1;32m     64\u001b[0m \u001b[0;31m# and shows them\u001b[0m\u001b[0;34m\u001b[0m\u001b[0;34m\u001b[0m\u001b[0m\n\u001b[1;32m     65\u001b[0m     \u001b[0;32mdef\u001b[0m \u001b[0mplots\u001b[0m\u001b[0;34m(\u001b[0m\u001b[0mself\u001b[0m\u001b[0;34m)\u001b[0m\u001b[0;34m:\u001b[0m\u001b[0;34m\u001b[0m\u001b[0m\n\u001b[0;32m---> 66\u001b[0;31m         \u001b[0mself\u001b[0m\u001b[0;34m.\u001b[0m\u001b[0mplot_voltage\u001b[0m\u001b[0;34m(\u001b[0m\u001b[0;34m)\u001b[0m\u001b[0;34m\u001b[0m\u001b[0m\n\u001b[0m\u001b[1;32m     67\u001b[0m         \u001b[0mself\u001b[0m\u001b[0;34m.\u001b[0m\u001b[0mplot_map\u001b[0m\u001b[0;34m(\u001b[0m\u001b[0;34m)\u001b[0m\u001b[0;34m\u001b[0m\u001b[0m\n\u001b[1;32m     68\u001b[0m         \u001b[0mshow\u001b[0m\u001b[0;34m(\u001b[0m\u001b[0;34m)\u001b[0m\u001b[0;34m\u001b[0m\u001b[0m\n",
      "\u001b[0;32m<ipython-input-59-2efbd3c9303c>\u001b[0m in \u001b[0;36mplot_voltage\u001b[0;34m(self)\u001b[0m\n\u001b[1;32m    121\u001b[0m \u001b[0;34m\u001b[0m\u001b[0m\n\u001b[1;32m    122\u001b[0m         \u001b[0mself\u001b[0m\u001b[0;34m.\u001b[0m\u001b[0mfig\u001b[0m \u001b[0;34m=\u001b[0m \u001b[0mfig\u001b[0m\u001b[0;34m\u001b[0m\u001b[0m\n\u001b[0;32m--> 123\u001b[0;31m         self.selected, = plot(x[0:3], y[0], 'o', ms=12, alpha=0.7,\n\u001b[0m\u001b[1;32m    124\u001b[0m             color='yellow', visible=False)\n\u001b[1;32m    125\u001b[0m \u001b[0;34m\u001b[0m\u001b[0m\n",
      "\u001b[0;31mIndexError\u001b[0m: index 0 is out of bounds for axis 0 with size 0"
     ]
    },
    {
     "data": {
      "image/png": "[encoded data removed]",
      "text/plain": [
       "<Figure size 432x288 with 1 Axes>"
      ]
     },
     "metadata": {},
     "output_type": "display_data"
    }
   ],
   "source": [
    "%matplotlib inline\n",
    "model.plots()"
   ]
  },
  {
   "cell_type": "code",
   "execution_count": 44,
   "metadata": {},
   "outputs": [],
   "source": [
    "# the Bus class uses the circuit instance from the DSS COM object\n",
    "# and gets the names, bus voltages, distances from the energy meter,\n",
    "# x and y coordinates of the 'from' bus and puts them into numpy arrays\n",
    "class Bus:\n",
    "    def __init__(self, circuit):\n",
    "        \"\"\"\n",
    "        Inputs:\n",
    "            circuit - DSS COM object\n",
    "        Contains:\n",
    "            name - string - bus name\n",
    "            V - complex array (n x 3) - node bus voltage\n",
    "            distance - array (n) - distance from the energymeter\n",
    "            x - array (n) - from-bus x location\n",
    "            y - array (n) - from-bus y location\n",
    "        \"\"\"\n",
    "# n is set to the number of buses in the circuit\n",
    "        n = circuit.NumBuses\n",
    "\n",
    "# make the x,y, distance, and voltage numpy arrays of length n and set\n",
    "# the vslues to all zeros\n",
    "# note:  the voltage array is an array of complex values\n",
    "        x = zeros(n)\n",
    "        y = zeros(n)\n",
    "        distance = zeros(n)\n",
    "        V = zeros((n,3), dtype=complex)\n",
    "        name = array(\"                                \").repeat(n)\n",
    "\n",
    "# populate the arrays by looking at the each bus in turn from 0 to n\n",
    "# note:  by convention all arrays are zero-based in python\n",
    "        for i in range(0,n):\n",
    "            bus = circuit.Buses(i)\n",
    "            name[i] = bus.Name\n",
    "            x[i] = bus.x\n",
    "            y[i] = bus.y\n",
    "            distance[i] = bus.Distance\n",
    "            v = array(bus.Voltages)\n",
    "            nodes = array(bus.Nodes)\n",
    "\n",
    "# we're only interested in the first three nodes\n",
    "# (also called terminals) on the bus\n",
    "            if nodes.size > 3: nodes = nodes[0:3]\n",
    "            cidx = 2 * array(range(0, int(min(v.size / 2, 3))))\n",
    "            V[i, nodes-1] = v[cidx] + 1j * v[cidx + 1]\n",
    "        self.name = name\n",
    "        self.V = V\n",
    "        self.x = x\n",
    "        self.y = y\n",
    "        self.distance = distance\n",
    "\n",
    "# Branch class contains the branch object details\n",
    "class Branch:\n",
    "    def __init__(self, circuit):\n",
    "        \"\"\"\n",
    "        Inputs:\n",
    "            circuit - DSS COM object\n",
    "        Contains:\n",
    "            name - string - branch name\n",
    "            busname - string (n) - from-node bus name\n",
    "            busnameto - string (n) - to-node bus name\n",
    "            V - complex array (n x 3) - from-node bus voltage\n",
    "            Vto - complex array (n x 3) - to-node bus voltage\n",
    "            I - complex array (n x 3) - branch currents\n",
    "            nphases - array (n) - number of phases\n",
    "            distance - array (n) - distance from the energy meter\n",
    "            x - array (n) - from-bus x location\n",
    "            y - array (n) - from-bus y location\n",
    "            xto - array (n) - to-bus x location\n",
    "            yto - array (n) - to-bus y location\n",
    "        \"\"\"\n",
    "        n = circuit.NumCktElements\n",
    "        name = array(\"                      \").repeat(n)\n",
    "        busname = array(\"                      \").repeat(n)\n",
    "        busnameto = array(\"                      \").repeat(n)\n",
    "        x = zeros(n)\n",
    "        y = zeros(n)\n",
    "        xto = zeros(n)\n",
    "        yto = zeros(n)\n",
    "        distance = zeros(n)\n",
    "        nphases = zeros(n)\n",
    "        kvbase = zeros(n)\n",
    "        I = zeros((n,3), dtype=complex)\n",
    "        V = zeros((n,3), dtype=complex)\n",
    "        Vto = zeros((n,3), dtype=complex)\n",
    "        i = 0\n",
    "        for j in range(0,n):\n",
    "            el = circuit.CktElements(j)\n",
    "            if not re.search(\"^Line\", el.Name):\n",
    "                continue  # only pick lines...\n",
    "            name[i] = el.Name\n",
    "            bus2 = circuit.Buses(re.sub(r\"\\..*\",\"\", el.BusNames[-1]))\n",
    "            busnameto[i] = bus2.Name\n",
    "            xto[i] = bus2.x\n",
    "            yto[i] = bus2.y\n",
    "            if bus2.x == 0 or bus2.y == 0: continue # skip lines without proper bus coordinates\n",
    "            distance[i] = bus2.Distance\n",
    "            v = array(bus2.Voltages)\n",
    "            nodes = array(bus2.Nodes)\n",
    "            kvbase[i] = bus2.kVBase\n",
    "            nphases[i] = nodes.size\n",
    "            if nodes.size > 3: nodes = nodes[0:3]\n",
    "            cidx = 2 * array(range(0, int(min(v.size / 2, 3))))\n",
    "\n",
    "            bus1 = circuit.Buses(re.sub(r\"\\..*\",\"\", el.BusNames[0]))\n",
    "\n",
    "            if bus1.x == 0 or bus1.y == 0:\n",
    "                continue # skip lines without proper bus coordinates\n",
    "\n",
    "            busname[i] = bus1.Name\n",
    "\n",
    "            Vto[i, nodes-1] = v[cidx] + 1j * v[cidx + 1]\n",
    "            x[i] = bus1.x\n",
    "            y[i] = bus1.y\n",
    "            v = array(bus1.Voltages)\n",
    "            V[i, nodes-1] = v[cidx] + 1j * v[cidx + 1]\n",
    "            current = array(el.Currents)\n",
    "            I[i, nodes-1] = current[cidx] + 1j * current[cidx + 1]\n",
    "            i = i + 1\n",
    "        self.name = name[0:i]\n",
    "        self.busname = busname[0:i]\n",
    "        self.busnameto = busnameto[0:i]\n",
    "        self.nphases = nphases[0:i]\n",
    "        self.kvbase = kvbase[0:i]\n",
    "        self.x = x[0:i]\n",
    "        self.y = y[0:i]\n",
    "        self.xto = xto[0:i]\n",
    "        self.yto = yto[0:i]\n",
    "        self.distance = distance[0:i]\n",
    "\n",
    "        self.V = V[0:i]\n",
    "        self.Vto = Vto[0:i]\n",
    "        self.I = I[0:i]"
   ]
  }
 ],
 "metadata": {
  "kernelspec": {
   "display_name": "Python 3",
   "language": "python",
   "name": "python3"
  },
  "language_info": {
   "codemirror_mode": {
    "name": "ipython",
    "version": 3
   },
   "file_extension": ".py",
   "mimetype": "text/x-python",
   "name": "python",
   "nbconvert_exporter": "python",
   "pygments_lexer": "ipython3",
   "version": "3.6.5"
  }
 },
 "nbformat": 4,
 "nbformat_minor": 2
}
